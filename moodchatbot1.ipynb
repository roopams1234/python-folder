{
  "nbformat": 4,
  "nbformat_minor": 0,
  "metadata": {
    "colab": {
      "provenance": [],
      "authorship_tag": "ABX9TyOEgTzangksSN+9AZPJeWRt",
      "include_colab_link": true
    },
    "kernelspec": {
      "name": "python3",
      "display_name": "Python 3"
    },
    "language_info": {
      "name": "python"
    }
  },
  "cells": [
    {
      "cell_type": "markdown",
      "metadata": {
        "id": "view-in-github",
        "colab_type": "text"
      },
      "source": [
        "<a href=\"https://colab.research.google.com/github/roopams1234/python-folder/blob/master/moodchatbot1.ipynb\" target=\"_parent\"><img src=\"https://colab.research.google.com/assets/colab-badge.svg\" alt=\"Open In Colab\"/></a>"
      ]
    },
    {
      "cell_type": "code",
      "execution_count": 6,
      "metadata": {
        "colab": {
          "base_uri": "https://localhost:8080/"
        },
        "id": "MK_y_IbXPNoy",
        "outputId": "ab80bb16-33c7-4784-aaae-6ea68be7eb77"
      },
      "outputs": [
        {
          "output_type": "stream",
          "name": "stdout",
          "text": [
            "or\n"
          ]
        }
      ],
      "source": [
        "def my_function(x):\n",
        "  return x[1::-1]\n",
        "\n",
        "mytxt = my_function(\"roopa ms\")\n",
        "\n",
        "print(mytxt)\n"
      ]
    },
    {
      "cell_type": "markdown",
      "source": [],
      "metadata": {
        "id": "SjkNGEHiRULX"
      }
    },
    {
      "cell_type": "code",
      "source": [
        "mood ={\n",
        "    'happy':\"that's great to hear!\",\n",
        "    'sad':\"i am sorry to hear that\",\n",
        "    'angry':\"take a deep breath\"\n",
        "}\n",
        "user_answer = input(\"How was your day\")\n",
        "#look for key in the sentence\n",
        "for key in mood:\n",
        "  if key in user_answer:\n",
        "    print(mood[key])\n",
        "    break\n"
      ],
      "metadata": {
        "colab": {
          "base_uri": "https://localhost:8080/"
        },
        "id": "WHtY-TuuRVgD",
        "outputId": "d97db95c-9aab-4875-f73b-141e46114e41"
      },
      "execution_count": 19,
      "outputs": [
        {
          "output_type": "stream",
          "name": "stdout",
          "text": [
            "How was your daysad\n",
            "i am sorry to hear that\n"
          ]
        }
      ]
    }
  ]
}